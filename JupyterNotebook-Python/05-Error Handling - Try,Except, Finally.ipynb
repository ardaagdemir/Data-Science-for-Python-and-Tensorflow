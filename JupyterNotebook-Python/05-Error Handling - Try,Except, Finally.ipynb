{
 "cells": [
  {
   "cell_type": "code",
   "execution_count": 2,
   "metadata": {},
   "outputs": [
    {
     "name": "stdout",
     "output_type": "stream",
     "text": [
      "Enter a number: 1\n",
      "Accepted\n"
     ]
    }
   ],
   "source": [
    "while True: #Doğru olana kadar sonsuz döngüye sok\n",
    "    try: #Aşağıdaki kod satırını dene.\n",
    "        a = int(input(\"Enter a number: \"))\n",
    "    except:#Hatalı işlem olursa yönlendir.\n",
    "        print(\"ENTER A NUMBER!!\")\n",
    "        continue #Kod except'e girerse atla ve başa sar. İstenilen koşul sağlanmadıkça kod başa döner ve break komutuna girmez.\n",
    "    else: #Hata çıkmazsa print komutunu uygula.\n",
    "        print(\"Accepted\")\n",
    "        break #Sonlandır\n",
    "    "
   ]
  },
  {
   "cell_type": "code",
   "execution_count": null,
   "metadata": {},
   "outputs": [],
   "source": []
  },
  {
   "cell_type": "code",
   "execution_count": null,
   "metadata": {},
   "outputs": [],
   "source": []
  },
  {
   "cell_type": "code",
   "execution_count": null,
   "metadata": {},
   "outputs": [],
   "source": []
  }
 ],
 "metadata": {
  "kernelspec": {
   "display_name": "Python 3",
   "language": "python",
   "name": "python3"
  },
  "language_info": {
   "codemirror_mode": {
    "name": "ipython",
    "version": 3
   },
   "file_extension": ".py",
   "mimetype": "text/x-python",
   "name": "python",
   "nbconvert_exporter": "python",
   "pygments_lexer": "ipython3",
   "version": "3.8.5"
  }
 },
 "nbformat": 4,
 "nbformat_minor": 4
}
