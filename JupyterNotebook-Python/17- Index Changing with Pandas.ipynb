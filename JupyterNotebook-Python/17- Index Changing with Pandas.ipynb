{
 "cells": [
  {
   "cell_type": "code",
   "execution_count": 2,
   "metadata": {},
   "outputs": [],
   "source": [
    "import numpy as np\n",
    "import pandas as pd"
   ]
  },
  {
   "cell_type": "code",
   "execution_count": 19,
   "metadata": {},
   "outputs": [],
   "source": [
    "dataFrame = np.random.randn(3,3)"
   ]
  },
  {
   "cell_type": "code",
   "execution_count": 20,
   "metadata": {},
   "outputs": [
    {
     "data": {
      "text/plain": [
       "array([[-0.94278684, -0.2168405 , -1.03542455],\n",
       "       [-0.21161985, -0.93542719, -0.81876792],\n",
       "       [-1.32043648, -0.30271797, -1.41890437]])"
      ]
     },
     "execution_count": 20,
     "metadata": {},
     "output_type": "execute_result"
    }
   ],
   "source": [
    "dataFrame"
   ]
  },
  {
   "cell_type": "code",
   "execution_count": 21,
   "metadata": {},
   "outputs": [],
   "source": [
    "yeniDataFrame = pd.DataFrame(dataFrame)"
   ]
  },
  {
   "cell_type": "code",
   "execution_count": 22,
   "metadata": {},
   "outputs": [
    {
     "data": {
      "text/html": [
       "<div>\n",
       "<style scoped>\n",
       "    .dataframe tbody tr th:only-of-type {\n",
       "        vertical-align: middle;\n",
       "    }\n",
       "\n",
       "    .dataframe tbody tr th {\n",
       "        vertical-align: top;\n",
       "    }\n",
       "\n",
       "    .dataframe thead th {\n",
       "        text-align: right;\n",
       "    }\n",
       "</style>\n",
       "<table border=\"1\" class=\"dataframe\">\n",
       "  <thead>\n",
       "    <tr style=\"text-align: right;\">\n",
       "      <th></th>\n",
       "      <th>0</th>\n",
       "      <th>1</th>\n",
       "      <th>2</th>\n",
       "    </tr>\n",
       "  </thead>\n",
       "  <tbody>\n",
       "    <tr>\n",
       "      <th>0</th>\n",
       "      <td>-0.942787</td>\n",
       "      <td>-0.216840</td>\n",
       "      <td>-1.035425</td>\n",
       "    </tr>\n",
       "    <tr>\n",
       "      <th>1</th>\n",
       "      <td>-0.211620</td>\n",
       "      <td>-0.935427</td>\n",
       "      <td>-0.818768</td>\n",
       "    </tr>\n",
       "    <tr>\n",
       "      <th>2</th>\n",
       "      <td>-1.320436</td>\n",
       "      <td>-0.302718</td>\n",
       "      <td>-1.418904</td>\n",
       "    </tr>\n",
       "  </tbody>\n",
       "</table>\n",
       "</div>"
      ],
      "text/plain": [
       "          0         1         2\n",
       "0 -0.942787 -0.216840 -1.035425\n",
       "1 -0.211620 -0.935427 -0.818768\n",
       "2 -1.320436 -0.302718 -1.418904"
      ]
     },
     "execution_count": 22,
     "metadata": {},
     "output_type": "execute_result"
    }
   ],
   "source": [
    "yeniDataFrame"
   ]
  },
  {
   "cell_type": "code",
   "execution_count": 26,
   "metadata": {},
   "outputs": [],
   "source": [
    "yeniDataFrame = pd.DataFrame(dataFrame, index = [\"Arda\", \"Esila\", \"Atil\"], columns= [\"Boy\", \"Yas\", \"Kilo\"])"
   ]
  },
  {
   "cell_type": "code",
   "execution_count": 27,
   "metadata": {
    "scrolled": true
   },
   "outputs": [
    {
     "data": {
      "text/html": [
       "<div>\n",
       "<style scoped>\n",
       "    .dataframe tbody tr th:only-of-type {\n",
       "        vertical-align: middle;\n",
       "    }\n",
       "\n",
       "    .dataframe tbody tr th {\n",
       "        vertical-align: top;\n",
       "    }\n",
       "\n",
       "    .dataframe thead th {\n",
       "        text-align: right;\n",
       "    }\n",
       "</style>\n",
       "<table border=\"1\" class=\"dataframe\">\n",
       "  <thead>\n",
       "    <tr style=\"text-align: right;\">\n",
       "      <th></th>\n",
       "      <th>Boy</th>\n",
       "      <th>Yas</th>\n",
       "      <th>Kilo</th>\n",
       "    </tr>\n",
       "  </thead>\n",
       "  <tbody>\n",
       "    <tr>\n",
       "      <th>Arda</th>\n",
       "      <td>-0.942787</td>\n",
       "      <td>-0.216840</td>\n",
       "      <td>-1.035425</td>\n",
       "    </tr>\n",
       "    <tr>\n",
       "      <th>Esila</th>\n",
       "      <td>-0.211620</td>\n",
       "      <td>-0.935427</td>\n",
       "      <td>-0.818768</td>\n",
       "    </tr>\n",
       "    <tr>\n",
       "      <th>Atil</th>\n",
       "      <td>-1.320436</td>\n",
       "      <td>-0.302718</td>\n",
       "      <td>-1.418904</td>\n",
       "    </tr>\n",
       "  </tbody>\n",
       "</table>\n",
       "</div>"
      ],
      "text/plain": [
       "            Boy       Yas      Kilo\n",
       "Arda  -0.942787 -0.216840 -1.035425\n",
       "Esila -0.211620 -0.935427 -0.818768\n",
       "Atil  -1.320436 -0.302718 -1.418904"
      ]
     },
     "execution_count": 27,
     "metadata": {},
     "output_type": "execute_result"
    }
   ],
   "source": [
    "yeniDataFrame"
   ]
  },
  {
   "cell_type": "code",
   "execution_count": null,
   "metadata": {},
   "outputs": [],
   "source": [
    "## serideki index değerlerini değiştirmek için;"
   ]
  },
  {
   "cell_type": "code",
   "execution_count": 28,
   "metadata": {},
   "outputs": [],
   "source": [
    "newIndexList = [\"Ard\", \"Esil\", \"Ati\"]"
   ]
  },
  {
   "cell_type": "code",
   "execution_count": 31,
   "metadata": {},
   "outputs": [],
   "source": [
    "yeniDataFrame[\"New Index\"] = newIndexList"
   ]
  },
  {
   "cell_type": "code",
   "execution_count": 32,
   "metadata": {},
   "outputs": [
    {
     "data": {
      "text/html": [
       "<div>\n",
       "<style scoped>\n",
       "    .dataframe tbody tr th:only-of-type {\n",
       "        vertical-align: middle;\n",
       "    }\n",
       "\n",
       "    .dataframe tbody tr th {\n",
       "        vertical-align: top;\n",
       "    }\n",
       "\n",
       "    .dataframe thead th {\n",
       "        text-align: right;\n",
       "    }\n",
       "</style>\n",
       "<table border=\"1\" class=\"dataframe\">\n",
       "  <thead>\n",
       "    <tr style=\"text-align: right;\">\n",
       "      <th></th>\n",
       "      <th>Boy</th>\n",
       "      <th>Yas</th>\n",
       "      <th>Kilo</th>\n",
       "      <th>New Index</th>\n",
       "    </tr>\n",
       "  </thead>\n",
       "  <tbody>\n",
       "    <tr>\n",
       "      <th>Arda</th>\n",
       "      <td>-0.942787</td>\n",
       "      <td>-0.216840</td>\n",
       "      <td>-1.035425</td>\n",
       "      <td>Ard</td>\n",
       "    </tr>\n",
       "    <tr>\n",
       "      <th>Esila</th>\n",
       "      <td>-0.211620</td>\n",
       "      <td>-0.935427</td>\n",
       "      <td>-0.818768</td>\n",
       "      <td>Esil</td>\n",
       "    </tr>\n",
       "    <tr>\n",
       "      <th>Atil</th>\n",
       "      <td>-1.320436</td>\n",
       "      <td>-0.302718</td>\n",
       "      <td>-1.418904</td>\n",
       "      <td>Ati</td>\n",
       "    </tr>\n",
       "  </tbody>\n",
       "</table>\n",
       "</div>"
      ],
      "text/plain": [
       "            Boy       Yas      Kilo New Index\n",
       "Arda  -0.942787 -0.216840 -1.035425       Ard\n",
       "Esila -0.211620 -0.935427 -0.818768      Esil\n",
       "Atil  -1.320436 -0.302718 -1.418904       Ati"
      ]
     },
     "execution_count": 32,
     "metadata": {},
     "output_type": "execute_result"
    }
   ],
   "source": [
    "yeniDataFrame"
   ]
  },
  {
   "cell_type": "code",
   "execution_count": 33,
   "metadata": {},
   "outputs": [
    {
     "data": {
      "text/html": [
       "<div>\n",
       "<style scoped>\n",
       "    .dataframe tbody tr th:only-of-type {\n",
       "        vertical-align: middle;\n",
       "    }\n",
       "\n",
       "    .dataframe tbody tr th {\n",
       "        vertical-align: top;\n",
       "    }\n",
       "\n",
       "    .dataframe thead th {\n",
       "        text-align: right;\n",
       "    }\n",
       "</style>\n",
       "<table border=\"1\" class=\"dataframe\">\n",
       "  <thead>\n",
       "    <tr style=\"text-align: right;\">\n",
       "      <th></th>\n",
       "      <th>Boy</th>\n",
       "      <th>Yas</th>\n",
       "      <th>Kilo</th>\n",
       "    </tr>\n",
       "    <tr>\n",
       "      <th>New Index</th>\n",
       "      <th></th>\n",
       "      <th></th>\n",
       "      <th></th>\n",
       "    </tr>\n",
       "  </thead>\n",
       "  <tbody>\n",
       "    <tr>\n",
       "      <th>Ard</th>\n",
       "      <td>-0.942787</td>\n",
       "      <td>-0.216840</td>\n",
       "      <td>-1.035425</td>\n",
       "    </tr>\n",
       "    <tr>\n",
       "      <th>Esil</th>\n",
       "      <td>-0.211620</td>\n",
       "      <td>-0.935427</td>\n",
       "      <td>-0.818768</td>\n",
       "    </tr>\n",
       "    <tr>\n",
       "      <th>Ati</th>\n",
       "      <td>-1.320436</td>\n",
       "      <td>-0.302718</td>\n",
       "      <td>-1.418904</td>\n",
       "    </tr>\n",
       "  </tbody>\n",
       "</table>\n",
       "</div>"
      ],
      "text/plain": [
       "                Boy       Yas      Kilo\n",
       "New Index                              \n",
       "Ard       -0.942787 -0.216840 -1.035425\n",
       "Esil      -0.211620 -0.935427 -0.818768\n",
       "Ati       -1.320436 -0.302718 -1.418904"
      ]
     },
     "execution_count": 33,
     "metadata": {},
     "output_type": "execute_result"
    }
   ],
   "source": [
    "##new index i sütuna yerleştirdik ancak kalıcı olarak değil\n",
    "yeniDataFrame.set_index(\"New Index\")"
   ]
  },
  {
   "cell_type": "code",
   "execution_count": 34,
   "metadata": {},
   "outputs": [],
   "source": [
    "##kalıcı olması için;\n",
    "yeniDataFrame.set_index(\"New Index\", inplace=True)"
   ]
  },
  {
   "cell_type": "code",
   "execution_count": 35,
   "metadata": {},
   "outputs": [
    {
     "data": {
      "text/html": [
       "<div>\n",
       "<style scoped>\n",
       "    .dataframe tbody tr th:only-of-type {\n",
       "        vertical-align: middle;\n",
       "    }\n",
       "\n",
       "    .dataframe tbody tr th {\n",
       "        vertical-align: top;\n",
       "    }\n",
       "\n",
       "    .dataframe thead th {\n",
       "        text-align: right;\n",
       "    }\n",
       "</style>\n",
       "<table border=\"1\" class=\"dataframe\">\n",
       "  <thead>\n",
       "    <tr style=\"text-align: right;\">\n",
       "      <th></th>\n",
       "      <th>Boy</th>\n",
       "      <th>Yas</th>\n",
       "      <th>Kilo</th>\n",
       "    </tr>\n",
       "    <tr>\n",
       "      <th>New Index</th>\n",
       "      <th></th>\n",
       "      <th></th>\n",
       "      <th></th>\n",
       "    </tr>\n",
       "  </thead>\n",
       "  <tbody>\n",
       "    <tr>\n",
       "      <th>Ard</th>\n",
       "      <td>-0.942787</td>\n",
       "      <td>-0.216840</td>\n",
       "      <td>-1.035425</td>\n",
       "    </tr>\n",
       "    <tr>\n",
       "      <th>Esil</th>\n",
       "      <td>-0.211620</td>\n",
       "      <td>-0.935427</td>\n",
       "      <td>-0.818768</td>\n",
       "    </tr>\n",
       "    <tr>\n",
       "      <th>Ati</th>\n",
       "      <td>-1.320436</td>\n",
       "      <td>-0.302718</td>\n",
       "      <td>-1.418904</td>\n",
       "    </tr>\n",
       "  </tbody>\n",
       "</table>\n",
       "</div>"
      ],
      "text/plain": [
       "                Boy       Yas      Kilo\n",
       "New Index                              \n",
       "Ard       -0.942787 -0.216840 -1.035425\n",
       "Esil      -0.211620 -0.935427 -0.818768\n",
       "Ati       -1.320436 -0.302718 -1.418904"
      ]
     },
     "execution_count": 35,
     "metadata": {},
     "output_type": "execute_result"
    }
   ],
   "source": [
    "yeniDataFrame"
   ]
  },
  {
   "cell_type": "code",
   "execution_count": 36,
   "metadata": {},
   "outputs": [
    {
     "data": {
      "text/plain": [
       "Boy    -0.211620\n",
       "Yas    -0.935427\n",
       "Kilo   -0.818768\n",
       "Name: Esil, dtype: float64"
      ]
     },
     "execution_count": 36,
     "metadata": {},
     "output_type": "execute_result"
    }
   ],
   "source": [
    "#çalışıyor mu diye kontrol etmek için;\n",
    "yeniDataFrame.loc[\"Esil\"]"
   ]
  },
  {
   "cell_type": "code",
   "execution_count": null,
   "metadata": {},
   "outputs": [],
   "source": []
  }
 ],
 "metadata": {
  "kernelspec": {
   "display_name": "Python 3",
   "language": "python",
   "name": "python3"
  },
  "language_info": {
   "codemirror_mode": {
    "name": "ipython",
    "version": 3
   },
   "file_extension": ".py",
   "mimetype": "text/x-python",
   "name": "python",
   "nbconvert_exporter": "python",
   "pygments_lexer": "ipython3",
   "version": "3.8.5"
  }
 },
 "nbformat": 4,
 "nbformat_minor": 4
}
