{
 "cells": [
  {
   "cell_type": "code",
   "execution_count": 11,
   "metadata": {},
   "outputs": [],
   "source": [
    "#Google ın geliştirdiği hem makine hem de derin öğrenmeden sık kullanılan bir araçtır. \n",
    "#Tenserflow çok boyutlu işlemler yapabilmek için kullanılan bir araçtır."
   ]
  },
  {
   "cell_type": "code",
   "execution_count": 12,
   "metadata": {},
   "outputs": [],
   "source": [
    "#Perceptron\n",
    "#Yapay nöron anlamına gelmektedir. Bu nöronlar bir veya birden çok girdi alarak bir çıktı verirler.\n",
    "#Bu işlemleri birden çok perceptron ile yaptığınız da bir ağ oluşturmuş oluyorsunuz. \n",
    "#Bu ağlara Yapay Sinir Ağları (Artificial Neural Network(ANN)) denir."
   ]
  },
  {
   "cell_type": "markdown",
   "metadata": {},
   "source": [
    "# Aktivasyon Fonksiyonları"
   ]
  },
  {
   "cell_type": "code",
   "execution_count": 13,
   "metadata": {},
   "outputs": [],
   "source": [
    "##Sigmoid Fonksiyonu\n",
    "#0 ile 1 arasında değerler alır\n",
    "#genelde sınıflandırma problemlerinde kullanılır\n",
    "#%80 ihtimalle... şeklinde bir sonuç ifade eder"
   ]
  },
  {
   "cell_type": "code",
   "execution_count": 14,
   "metadata": {},
   "outputs": [],
   "source": [
    "##TanH(Hiperbolik Tanjant) Fonksiyonu\n",
    "#-1 ile 1 arasında değerler alır\n",
    "#Negatif değerlerde daha geniş bir kapsam sağlar ve genelde sınıflandırma operasyonlarında kullanır."
   ]
  },
  {
   "cell_type": "code",
   "execution_count": 15,
   "metadata": {},
   "outputs": [],
   "source": [
    "##ReLU (Rectified Linear Unit)\n",
    "#0 ile + sonsuz arasında değer alır.\n",
    "#Derin öğrenme alanında sıklıkla kullanılır."
   ]
  },
  {
   "cell_type": "code",
   "execution_count": 16,
   "metadata": {},
   "outputs": [],
   "source": [
    "##Linear Fonksiyonlar\n",
    "#f(x)=x\n",
    "#Sonsuz değer alabilir fakat non-linear olmaması sebebiyle modellerde sorunlara yol açabilir."
   ]
  },
  {
   "cell_type": "code",
   "execution_count": null,
   "metadata": {},
   "outputs": [],
   "source": []
  },
  {
   "cell_type": "markdown",
   "metadata": {},
   "source": [
    "# Regresyon Nedir?"
   ]
  },
  {
   "cell_type": "code",
   "execution_count": 17,
   "metadata": {},
   "outputs": [],
   "source": [
    "#Çocukların boyları ile babalarının boyları arasında ilişki olabilir mi?\n",
    "#Çocukların boyları toplam veri setindeki ortalamaya yakın olma eğilimi gösterebilir.\n",
    "#y=ax+b\n",
    "#Birden fazla elde edilen farklı veriden ortalama bir referans çizgisi oluşturularak elde edilir."
   ]
  },
  {
   "cell_type": "code",
   "execution_count": null,
   "metadata": {},
   "outputs": [],
   "source": []
  },
  {
   "cell_type": "code",
   "execution_count": 18,
   "metadata": {},
   "outputs": [],
   "source": [
    "#Bir fonksiyonu minimize etmek için kullanılan bir method vardır.Buna Gradient Descent denir."
   ]
  },
  {
   "cell_type": "code",
   "execution_count": 19,
   "metadata": {},
   "outputs": [],
   "source": [
    "#Gradient Descent, bir fonksiyonun minimumunu bulmak için kullandığımız optimizasyon fonksiyonudur.\n",
    "#Maliyet fonksiyonunu minimize etmek için kullanabiliriz.\n",
    "#Fonksiyonu minimalize ederken(yani aşağı inerken) ne kadar hızlı veya yavaş inebileceğimizi seçebiliriz(step size).\n",
    "#Bir veriyi analiz etmek için onun minimum değerine belirli aralıklar ile ulaşmamız mümkündür.\n",
    "#Bu öğrenme seviyemizle aynı anlama gelir. Minnimuma hızlı ulaşmak için optimizasyonlar kullanabiliriz.\n",
    "#Eğer aralıkları küçük bir değer seçersek grafikte istediğimiz minimum noktasına ulaşmış oluruz ancak bu yavaş bir yol olur.\n",
    "#Aralıkları büyük seçersek bu sefer de minimum noktasını atlayarak bir analiz yapmış olabiliriz.\n",
    "#Bu öğrenme seviyemizle aynı anlama gelir. Minnimuma hızlı ulaşmak için optimizasyonlar kullanabiliriz.\n",
    "#Bu optimizasyonlardan popüler olanlar: RMSProp, Adam"
   ]
  },
  {
   "cell_type": "code",
   "execution_count": null,
   "metadata": {},
   "outputs": [],
   "source": []
  }
 ],
 "metadata": {
  "kernelspec": {
   "display_name": "Python 3",
   "language": "python",
   "name": "python3"
  },
  "language_info": {
   "codemirror_mode": {
    "name": "ipython",
    "version": 3
   },
   "file_extension": ".py",
   "mimetype": "text/x-python",
   "name": "python",
   "nbconvert_exporter": "python",
   "pygments_lexer": "ipython3",
   "version": "3.8.5"
  }
 },
 "nbformat": 4,
 "nbformat_minor": 4
}
